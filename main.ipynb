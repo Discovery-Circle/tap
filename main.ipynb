{
 "cells": [
  {
   "cell_type": "code",
   "execution_count": 13,
   "metadata": {},
   "outputs": [],
   "source": [
    "import plotly as plt\n",
    "from scipy import stats\n",
    "from statsmodels.stats.multitest import multipletests\n",
    "import seaborn as sns\n",
    "import pandas as pd\n",
    "import plotly.express as px\n",
    "import itertools"
   ]
  },
  {
   "cell_type": "code",
   "execution_count": 14,
   "metadata": {},
   "outputs": [],
   "source": [
    "def plot_stats(\n",
    "        df,\n",
    "        x,\n",
    "        y,\n",
    "        pairs = None,\n",
    "        order = None,\n",
    "        type_plot=\"box\",\n",
    "        type_test=\"Mann-Whitney\",\n",
    "        type_correction = None\n",
    "    ):\n",
    "    '''\n",
    "        DOCUMENTAZIONE DELLA FUNZIONE\n",
    "\n",
    "        ---\n",
    "        ciccia culo\n",
    "    '''\n",
    "    #GET ALL CLASS\n",
    "    all_x = list(df[x].unique())\n",
    "\n",
    "    #CALCULATE MIN, MAX AND UNIT\n",
    "    v_min = min(df[y].values)\n",
    "    v_max = max(df[y].values)\n",
    "    v_unit = (v_max - v_min) * 0.1\n",
    "    max_y_figure = v_max\n",
    "\n",
    "    #CREATE PAIRS IF pairs IS NONE\n",
    "    if pairs is None:\n",
    "        pairs = list(itertools.combinations(all_x, 2))\n",
    "\n",
    "    if order is None:\n",
    "        order = all_x\n",
    "    else:\n",
    "        for e in order:\n",
    "            if e not in all_x:\n",
    "                raise NameError(f\"Element {e} not found inside dataframe\")\n",
    "        if len(set(order)) != len(all_x):\n",
    "                raise NameError(f\"Non tutti\")\n",
    "        all_x = order\n",
    "\n",
    "    #CALCULATED INFOS\n",
    "    info_data = dict()\n",
    "    for index, single_x in enumerate(all_x):\n",
    "        info_data[single_x] = {\n",
    "            \"max\": max(df[df[x]==single_x][y].values),\n",
    "            \"index\": index\n",
    "        }\n",
    "\n",
    "    #PLOT BASE\n",
    "    fig=None\n",
    "    match type_plot:\n",
    "        case \"box\": \n",
    "            fig = px.box(df, x=x, y=y, color=x, category_orders={f\"{x}\": order})\n",
    "        case \"strip\":\n",
    "            fig = px.strip(df, x=x, y=y, color=x, category_orders={f\"{x}\": order})\n",
    "\n",
    "\n",
    "    p_values_obj = []\n",
    "    for i in range(1, len(all_x)):\n",
    "        distance_dict = dict()\n",
    "        #CALCULATE DISTANCES\n",
    "        for pair in pairs:\n",
    "            if abs(info_data[pair[0]][\"index\"] - info_data[pair[1]][\"index\"]) == i:\n",
    "                distance_dict[pair]=abs(info_data[pair[0]][\"max\"] - info_data[pair[1]][\"max\"])\n",
    "\n",
    "        #SORT DISTANCES\n",
    "        distance_dict = dict(sorted(distance_dict.items(), key=lambda x: x[1]))\n",
    "\n",
    "        #GENERATE ANNOTATIONS\n",
    "        for pair in distance_dict.keys():\n",
    "            #VARS PAIR 0\n",
    "            values_p0 = df[df[x]==pair[0]][y].values\n",
    "            index_class0 = info_data[pair[0]][\"index\"]\n",
    "            #VARS PAIR 1\n",
    "            values_p1 = df[df[x]==pair[1]][y].values\n",
    "            index_class1 = info_data[pair[1]][\"index\"]\n",
    "\n",
    "            if index_class0 < index_class1:\n",
    "                slice_all_x = all_x[index_class0:index_class1 + 1]\n",
    "            else:\n",
    "                slice_all_x = all_x[index_class1:index_class0 + 1]\n",
    "\n",
    "            value_line_y = 0\n",
    "            column_selected = \"\"\n",
    "            #GET MAX Y\n",
    "            for k, e in info_data.items():\n",
    "                if k in slice_all_x and e[\"max\"] > value_line_y:\n",
    "                    value_line_y = e[\"max\"]\n",
    "                    column_selected = k\n",
    "            #UPDATE MAX Y\n",
    "            for k, e in info_data.items():\n",
    "                if k in slice_all_x:\n",
    "                    info_data[k][\"max\"] = value_line_y + v_unit * 1.5\n",
    "            value_line_y += v_unit\n",
    "\n",
    "            #PLOT LINE\n",
    "            fig.add_shape(type=\"path\",\n",
    "                path=f\"M {index_class0},{value_line_y - (v_unit * 0.5)} L{index_class0},{value_line_y} L{index_class1},{value_line_y} L{index_class1},{value_line_y - (v_unit * 0.5)}\", \n",
    "                line=dict(color=\"Black\",width=1.5)\n",
    "            )\n",
    "\n",
    "            #CALCULATE P_VALUE\n",
    "            p_value = 0\n",
    "            match type_test:\n",
    "                case \"Mann-Whitney\":\n",
    "                    p_value = stats.mannwhitneyu(values_p0,values_p1)\n",
    "                case \"t-test\":\n",
    "                    p_value = stats.ttest_ind(values_p0,values_p1)\n",
    "                case \"t-test-related\":\n",
    "                    p_value = stats.ttest_rel(values_p0,values_p1)\n",
    "                case \"Wilcoxon\":\n",
    "                    p_value = stats.wilcoxon(values_p0,values_p1)\n",
    "                case \"Kruskal-Wallis\":\n",
    "                    p_value = stats.kruskal(values_p0,values_p1)\n",
    "                case \"Levene\":\n",
    "                    p_value = stats.levene(values_p0,values_p1)\n",
    "                case \"Brunner-Munzel\":\n",
    "                    p_value = stats.brunnermunzel(values_p0,values_p1)\n",
    "                case \"Ansari-Bradley\":\n",
    "                    p_value = stats.ansari(values_p0,values_p1)\n",
    "                case \"CramerVon-Mises\":\n",
    "                    p_value = stats.cramervonmises_2samp(values_p0,values_p1)\n",
    "                case \"Kolmogorov-Smirnov\":\n",
    "                    p_value = stats.kstest(values_p0,values_p1)\n",
    "                case \"Alexander-Govern\":\n",
    "                    p_value = stats.alexandergovern(values_p0,values_p1)\n",
    "                case \"Fligner-Killeen\":\n",
    "                    p_value = stats.fligner(values_p0,values_p1)\n",
    "                case \"Bartlett\":\n",
    "                    p_value = stats.bartlett(values_p0,values_p1)\n",
    "                case _:\n",
    "                    raise Exception(f\"Type test {type_test} does not exist, use one of [Mann-Whitney,t-test,t-test-related,Wilcoxon,Kruskal-Wallis,Levene,Brunner-Munzel,Ansari-Bradley,CramerVon-Mises,Kolmogorov-Smirnov,Alexander-Govern,Fligner-Killeen]\")\n",
    "\n",
    "            p_values_obj.append(\n",
    "                {\n",
    "                    \"x\": (index_class0 + index_class1) * 0.5,\n",
    "                    \"y\": value_line_y + (v_unit * 0.5),\n",
    "                    \"p_value\": p_value.pvalue,\n",
    "                    \"stat\": p_value.statistic\n",
    "                }\n",
    "            )\n",
    "\n",
    "            #UPDATE MAX VALUE\n",
    "            if value_line_y > max_y_figure:\n",
    "                max_y_figure = value_line_y\n",
    "\n",
    "    if type_correction is not None:\n",
    "        all_p_values = [e[\"p_value\"] for e in p_values_obj]\n",
    "        \n",
    "        #https://www.statsmodels.org/dev/generated/statsmodels.stats.multitest.multipletests.html#statsmodels.stats.multitest.multipletests-parameters\n",
    "        match type_correction:\n",
    "            case \"Bonferroni\":\n",
    "                result = multipletests(all_p_values, method='bonferroni')\n",
    "            case \"Sidak\":\n",
    "                result = multipletests(all_p_values, method='sidak')\n",
    "            case \"Holm-Sidak\":\n",
    "                result = multipletests(all_p_values, method='holm-sidak')\n",
    "            case \"Benjamini-Hochberg\":\n",
    "                result = multipletests(all_p_values, method='fdr_bh')\n",
    "            case _:\n",
    "                raise Exception(f\"Type correction {type_correction} does not exist, use one of [Bonferroni,Sidak,Holm-Sidak,Benjamini-Hochberg]\")\n",
    "\n",
    "        for index, e in enumerate(p_values_obj):\n",
    "            e[\"p_value\"] = result[1][index]\n",
    "\n",
    "\n",
    "    for ele in p_values_obj:\n",
    "        color = \"Green\" if ele[\"p_value\"] <= 0.05 else \"Red\"\n",
    "        p_value = round(ele[\"p_value\"], 3) if ele[\"p_value\"] >= 0.001 else \"< 0.001\"\n",
    "        #PLOT TEXT\n",
    "        fig.add_annotation(\n",
    "            x=ele[\"x\"], y=ele[\"y\"],\n",
    "            text=f'p-value {p_value}',\n",
    "            showarrow=False,\n",
    "            font=dict(color=color),\n",
    "            hovertext=f'p-value: {ele[\"p_value\"]}<br>statistic: {ele[\"stat\"]}'\n",
    "        )\n",
    "\n",
    "    #UPDATE FIGURE RANGE Y\n",
    "    fig.update_yaxes(range=[v_min - v_unit, max_y_figure + v_unit])\n",
    "\n",
    "    #PLOT FIGURE\n",
    "    fig.show()"
   ]
  },
  {
   "cell_type": "code",
   "execution_count": 18,
   "metadata": {},
   "outputs": [
    {
     "data": {
      "application/vnd.plotly.v1+json": {
       "config": {
        "plotlyServerURL": "https://plot.ly"
       },
       "data": [
        {
         "alignmentgroup": "True",
         "hovertemplate": "day=%{x}<br>total_bill=%{y}<extra></extra>",
         "legendgroup": "Thur",
         "marker": {
          "color": "#636efa"
         },
         "name": "Thur",
         "notched": false,
         "offsetgroup": "Thur",
         "orientation": "v",
         "showlegend": true,
         "type": "box",
         "x": [
          "Thur",
          "Thur",
          "Thur",
          "Thur",
          "Thur",
          "Thur",
          "Thur",
          "Thur",
          "Thur",
          "Thur",
          "Thur",
          "Thur",
          "Thur",
          "Thur",
          "Thur",
          "Thur",
          "Thur",
          "Thur",
          "Thur",
          "Thur",
          "Thur",
          "Thur",
          "Thur",
          "Thur",
          "Thur",
          "Thur",
          "Thur",
          "Thur",
          "Thur",
          "Thur",
          "Thur",
          "Thur",
          "Thur",
          "Thur",
          "Thur",
          "Thur",
          "Thur",
          "Thur",
          "Thur",
          "Thur",
          "Thur",
          "Thur",
          "Thur",
          "Thur",
          "Thur",
          "Thur",
          "Thur",
          "Thur",
          "Thur",
          "Thur",
          "Thur",
          "Thur",
          "Thur",
          "Thur",
          "Thur",
          "Thur",
          "Thur",
          "Thur",
          "Thur",
          "Thur",
          "Thur",
          "Thur"
         ],
         "x0": " ",
         "xaxis": "x",
         "y": [
          27.2,
          22.76,
          17.29,
          19.44,
          16.66,
          10.07,
          32.68,
          15.98,
          34.83,
          13.03,
          18.28,
          24.71,
          21.16,
          10.65,
          12.43,
          24.08,
          11.69,
          13.42,
          14.26,
          15.95,
          12.48,
          29.8,
          8.52,
          14.52,
          11.38,
          22.82,
          19.08,
          20.27,
          11.17,
          12.26,
          18.26,
          8.51,
          10.33,
          14.15,
          16,
          13.16,
          17.47,
          34.3,
          41.19,
          27.05,
          16.43,
          8.35,
          18.64,
          11.87,
          9.78,
          7.51,
          19.81,
          28.44,
          15.48,
          16.58,
          7.56,
          10.34,
          43.11,
          13,
          13.51,
          18.71,
          12.74,
          13,
          16.4,
          20.53,
          16.47,
          18.78
         ],
         "y0": " ",
         "yaxis": "y"
        },
        {
         "alignmentgroup": "True",
         "hovertemplate": "day=%{x}<br>total_bill=%{y}<extra></extra>",
         "legendgroup": "Sun",
         "marker": {
          "color": "#EF553B"
         },
         "name": "Sun",
         "notched": false,
         "offsetgroup": "Sun",
         "orientation": "v",
         "showlegend": true,
         "type": "box",
         "x": [
          "Sun",
          "Sun",
          "Sun",
          "Sun",
          "Sun",
          "Sun",
          "Sun",
          "Sun",
          "Sun",
          "Sun",
          "Sun",
          "Sun",
          "Sun",
          "Sun",
          "Sun",
          "Sun",
          "Sun",
          "Sun",
          "Sun",
          "Sun",
          "Sun",
          "Sun",
          "Sun",
          "Sun",
          "Sun",
          "Sun",
          "Sun",
          "Sun",
          "Sun",
          "Sun",
          "Sun",
          "Sun",
          "Sun",
          "Sun",
          "Sun",
          "Sun",
          "Sun",
          "Sun",
          "Sun",
          "Sun",
          "Sun",
          "Sun",
          "Sun",
          "Sun",
          "Sun",
          "Sun",
          "Sun",
          "Sun",
          "Sun",
          "Sun",
          "Sun",
          "Sun",
          "Sun",
          "Sun",
          "Sun",
          "Sun",
          "Sun",
          "Sun",
          "Sun",
          "Sun",
          "Sun",
          "Sun",
          "Sun",
          "Sun",
          "Sun",
          "Sun",
          "Sun",
          "Sun",
          "Sun",
          "Sun",
          "Sun",
          "Sun",
          "Sun",
          "Sun",
          "Sun",
          "Sun"
         ],
         "x0": " ",
         "xaxis": "x",
         "y": [
          16.99,
          10.34,
          21.01,
          23.68,
          24.59,
          25.29,
          8.77,
          26.88,
          15.04,
          14.78,
          10.27,
          35.26,
          15.42,
          18.43,
          14.83,
          21.58,
          10.33,
          16.29,
          16.97,
          17.46,
          13.94,
          9.68,
          30.4,
          18.29,
          22.23,
          32.4,
          28.55,
          18.04,
          12.54,
          10.29,
          34.81,
          9.94,
          25.56,
          19.49,
          38.07,
          23.95,
          25.71,
          17.31,
          29.93,
          14.07,
          13.13,
          17.26,
          24.55,
          19.77,
          29.85,
          48.17,
          25,
          13.39,
          16.49,
          21.5,
          12.66,
          16.21,
          13.81,
          17.51,
          24.52,
          20.76,
          31.71,
          7.25,
          31.85,
          16.82,
          32.9,
          17.89,
          14.48,
          9.6,
          34.63,
          34.65,
          23.33,
          45.35,
          23.17,
          40.55,
          20.69,
          20.9,
          30.46,
          18.15,
          23.1,
          15.69
         ],
         "y0": " ",
         "yaxis": "y"
        },
        {
         "alignmentgroup": "True",
         "hovertemplate": "day=%{x}<br>total_bill=%{y}<extra></extra>",
         "legendgroup": "Sat",
         "marker": {
          "color": "#00cc96"
         },
         "name": "Sat",
         "notched": false,
         "offsetgroup": "Sat",
         "orientation": "v",
         "showlegend": true,
         "type": "box",
         "x": [
          "Sat",
          "Sat",
          "Sat",
          "Sat",
          "Sat",
          "Sat",
          "Sat",
          "Sat",
          "Sat",
          "Sat",
          "Sat",
          "Sat",
          "Sat",
          "Sat",
          "Sat",
          "Sat",
          "Sat",
          "Sat",
          "Sat",
          "Sat",
          "Sat",
          "Sat",
          "Sat",
          "Sat",
          "Sat",
          "Sat",
          "Sat",
          "Sat",
          "Sat",
          "Sat",
          "Sat",
          "Sat",
          "Sat",
          "Sat",
          "Sat",
          "Sat",
          "Sat",
          "Sat",
          "Sat",
          "Sat",
          "Sat",
          "Sat",
          "Sat",
          "Sat",
          "Sat",
          "Sat",
          "Sat",
          "Sat",
          "Sat",
          "Sat",
          "Sat",
          "Sat",
          "Sat",
          "Sat",
          "Sat",
          "Sat",
          "Sat",
          "Sat",
          "Sat",
          "Sat",
          "Sat",
          "Sat",
          "Sat",
          "Sat",
          "Sat",
          "Sat",
          "Sat",
          "Sat",
          "Sat",
          "Sat",
          "Sat",
          "Sat",
          "Sat",
          "Sat",
          "Sat",
          "Sat",
          "Sat",
          "Sat",
          "Sat",
          "Sat",
          "Sat",
          "Sat",
          "Sat",
          "Sat",
          "Sat",
          "Sat",
          "Sat"
         ],
         "x0": " ",
         "xaxis": "x",
         "y": [
          20.65,
          17.92,
          20.29,
          15.77,
          39.42,
          19.82,
          17.81,
          13.37,
          12.69,
          21.7,
          19.65,
          9.55,
          18.35,
          15.06,
          20.69,
          17.78,
          24.06,
          16.31,
          16.93,
          18.69,
          31.27,
          16.04,
          38.01,
          26.41,
          11.24,
          48.27,
          20.29,
          13.81,
          11.02,
          18.29,
          17.59,
          20.08,
          16.45,
          3.07,
          20.23,
          15.01,
          12.02,
          17.07,
          26.86,
          25.28,
          14.73,
          10.51,
          17.92,
          44.3,
          22.42,
          20.92,
          15.36,
          20.49,
          25.21,
          18.24,
          14.31,
          14,
          7.25,
          10.59,
          10.63,
          50.81,
          15.81,
          26.59,
          38.73,
          24.27,
          12.76,
          30.06,
          25.89,
          48.33,
          13.27,
          28.17,
          12.9,
          28.15,
          11.59,
          7.74,
          30.14,
          20.45,
          13.28,
          22.12,
          24.01,
          15.69,
          11.61,
          10.77,
          15.53,
          10.07,
          12.6,
          32.83,
          35.83,
          29.03,
          27.18,
          22.67,
          17.82
         ],
         "y0": " ",
         "yaxis": "y"
        },
        {
         "alignmentgroup": "True",
         "hovertemplate": "day=%{x}<br>total_bill=%{y}<extra></extra>",
         "legendgroup": "Fri",
         "marker": {
          "color": "#ab63fa"
         },
         "name": "Fri",
         "notched": false,
         "offsetgroup": "Fri",
         "orientation": "v",
         "showlegend": true,
         "type": "box",
         "x": [
          "Fri",
          "Fri",
          "Fri",
          "Fri",
          "Fri",
          "Fri",
          "Fri",
          "Fri",
          "Fri",
          "Fri",
          "Fri",
          "Fri",
          "Fri",
          "Fri",
          "Fri",
          "Fri",
          "Fri",
          "Fri",
          "Fri"
         ],
         "x0": " ",
         "xaxis": "x",
         "y": [
          28.97,
          22.49,
          5.75,
          16.32,
          22.75,
          40.17,
          27.28,
          12.03,
          21.01,
          12.46,
          11.35,
          15.38,
          12.16,
          13.42,
          8.58,
          15.98,
          13.42,
          16.27,
          10.09
         ],
         "y0": " ",
         "yaxis": "y"
        }
       ],
       "layout": {
        "annotations": [
         {
          "font": {
           "color": "Red"
          },
          "hovertext": "p-value: 0.4302486403889546<br>statistic: 3582.5",
          "showarrow": false,
          "text": "p-value 0.43",
          "x": 1.5,
          "y": 57.971000000000004
         },
         {
          "font": {
           "color": "Green"
          },
          "hovertext": "p-value: 0.032177547001935106<br>statistic: 3007.0",
          "showarrow": false,
          "text": "p-value 0.032",
          "x": 0.5,
          "y": 65.132
         },
         {
          "font": {
           "color": "Red"
          },
          "hovertext": "p-value: 0.1913257248996844<br>statistic: 1012.0",
          "showarrow": false,
          "text": "p-value 0.191",
          "x": 2.5,
          "y": 65.132
         },
         {
          "font": {
           "color": "Red"
          },
          "hovertext": "p-value: 0.0804087305575709<br>statistic: 960.5",
          "showarrow": false,
          "text": "p-value 0.08",
          "x": 2,
          "y": 72.293
         },
         {
          "font": {
           "color": "Red"
          },
          "hovertext": "p-value: 0.09380126532334022<br>statistic: 3213.5",
          "showarrow": false,
          "text": "p-value 0.094",
          "x": 1,
          "y": 79.45400000000001
         },
         {
          "font": {
           "color": "Red"
          },
          "hovertext": "p-value: 0.6476760217605698<br>statistic: 630.5",
          "showarrow": false,
          "text": "p-value 0.648",
          "x": 1.5,
          "y": 86.61500000000001
         }
        ],
        "boxmode": "overlay",
        "legend": {
         "title": {
          "text": "day"
         },
         "tracegroupgap": 0
        },
        "margin": {
         "t": 60
        },
        "shapes": [
         {
          "line": {
           "color": "Black",
           "width": 1.5
          },
          "path": "M 1,53.197 L1,55.584 L2,55.584 L2,53.197",
          "type": "path"
         },
         {
          "line": {
           "color": "Black",
           "width": 1.5
          },
          "path": "M 1,60.358000000000004 L1,62.745000000000005 L0,62.745000000000005 L0,60.358000000000004",
          "type": "path"
         },
         {
          "line": {
           "color": "Black",
           "width": 1.5
          },
          "path": "M 2,60.358000000000004 L2,62.745000000000005 L3,62.745000000000005 L3,60.358000000000004",
          "type": "path"
         },
         {
          "line": {
           "color": "Black",
           "width": 1.5
          },
          "path": "M 1,67.519 L1,69.906 L3,69.906 L3,67.519",
          "type": "path"
         },
         {
          "line": {
           "color": "Black",
           "width": 1.5
          },
          "path": "M 2,74.68 L2,77.06700000000001 L0,77.06700000000001 L0,74.68",
          "type": "path"
         },
         {
          "line": {
           "color": "Black",
           "width": 1.5
          },
          "path": "M 0,81.84100000000001 L0,84.22800000000001 L3,84.22800000000001 L3,81.84100000000001",
          "type": "path"
         }
        ],
        "template": {
         "data": {
          "bar": [
           {
            "error_x": {
             "color": "#2a3f5f"
            },
            "error_y": {
             "color": "#2a3f5f"
            },
            "marker": {
             "line": {
              "color": "#E5ECF6",
              "width": 0.5
             },
             "pattern": {
              "fillmode": "overlay",
              "size": 10,
              "solidity": 0.2
             }
            },
            "type": "bar"
           }
          ],
          "barpolar": [
           {
            "marker": {
             "line": {
              "color": "#E5ECF6",
              "width": 0.5
             },
             "pattern": {
              "fillmode": "overlay",
              "size": 10,
              "solidity": 0.2
             }
            },
            "type": "barpolar"
           }
          ],
          "carpet": [
           {
            "aaxis": {
             "endlinecolor": "#2a3f5f",
             "gridcolor": "white",
             "linecolor": "white",
             "minorgridcolor": "white",
             "startlinecolor": "#2a3f5f"
            },
            "baxis": {
             "endlinecolor": "#2a3f5f",
             "gridcolor": "white",
             "linecolor": "white",
             "minorgridcolor": "white",
             "startlinecolor": "#2a3f5f"
            },
            "type": "carpet"
           }
          ],
          "choropleth": [
           {
            "colorbar": {
             "outlinewidth": 0,
             "ticks": ""
            },
            "type": "choropleth"
           }
          ],
          "contour": [
           {
            "colorbar": {
             "outlinewidth": 0,
             "ticks": ""
            },
            "colorscale": [
             [
              0,
              "#0d0887"
             ],
             [
              0.1111111111111111,
              "#46039f"
             ],
             [
              0.2222222222222222,
              "#7201a8"
             ],
             [
              0.3333333333333333,
              "#9c179e"
             ],
             [
              0.4444444444444444,
              "#bd3786"
             ],
             [
              0.5555555555555556,
              "#d8576b"
             ],
             [
              0.6666666666666666,
              "#ed7953"
             ],
             [
              0.7777777777777778,
              "#fb9f3a"
             ],
             [
              0.8888888888888888,
              "#fdca26"
             ],
             [
              1,
              "#f0f921"
             ]
            ],
            "type": "contour"
           }
          ],
          "contourcarpet": [
           {
            "colorbar": {
             "outlinewidth": 0,
             "ticks": ""
            },
            "type": "contourcarpet"
           }
          ],
          "heatmap": [
           {
            "colorbar": {
             "outlinewidth": 0,
             "ticks": ""
            },
            "colorscale": [
             [
              0,
              "#0d0887"
             ],
             [
              0.1111111111111111,
              "#46039f"
             ],
             [
              0.2222222222222222,
              "#7201a8"
             ],
             [
              0.3333333333333333,
              "#9c179e"
             ],
             [
              0.4444444444444444,
              "#bd3786"
             ],
             [
              0.5555555555555556,
              "#d8576b"
             ],
             [
              0.6666666666666666,
              "#ed7953"
             ],
             [
              0.7777777777777778,
              "#fb9f3a"
             ],
             [
              0.8888888888888888,
              "#fdca26"
             ],
             [
              1,
              "#f0f921"
             ]
            ],
            "type": "heatmap"
           }
          ],
          "heatmapgl": [
           {
            "colorbar": {
             "outlinewidth": 0,
             "ticks": ""
            },
            "colorscale": [
             [
              0,
              "#0d0887"
             ],
             [
              0.1111111111111111,
              "#46039f"
             ],
             [
              0.2222222222222222,
              "#7201a8"
             ],
             [
              0.3333333333333333,
              "#9c179e"
             ],
             [
              0.4444444444444444,
              "#bd3786"
             ],
             [
              0.5555555555555556,
              "#d8576b"
             ],
             [
              0.6666666666666666,
              "#ed7953"
             ],
             [
              0.7777777777777778,
              "#fb9f3a"
             ],
             [
              0.8888888888888888,
              "#fdca26"
             ],
             [
              1,
              "#f0f921"
             ]
            ],
            "type": "heatmapgl"
           }
          ],
          "histogram": [
           {
            "marker": {
             "pattern": {
              "fillmode": "overlay",
              "size": 10,
              "solidity": 0.2
             }
            },
            "type": "histogram"
           }
          ],
          "histogram2d": [
           {
            "colorbar": {
             "outlinewidth": 0,
             "ticks": ""
            },
            "colorscale": [
             [
              0,
              "#0d0887"
             ],
             [
              0.1111111111111111,
              "#46039f"
             ],
             [
              0.2222222222222222,
              "#7201a8"
             ],
             [
              0.3333333333333333,
              "#9c179e"
             ],
             [
              0.4444444444444444,
              "#bd3786"
             ],
             [
              0.5555555555555556,
              "#d8576b"
             ],
             [
              0.6666666666666666,
              "#ed7953"
             ],
             [
              0.7777777777777778,
              "#fb9f3a"
             ],
             [
              0.8888888888888888,
              "#fdca26"
             ],
             [
              1,
              "#f0f921"
             ]
            ],
            "type": "histogram2d"
           }
          ],
          "histogram2dcontour": [
           {
            "colorbar": {
             "outlinewidth": 0,
             "ticks": ""
            },
            "colorscale": [
             [
              0,
              "#0d0887"
             ],
             [
              0.1111111111111111,
              "#46039f"
             ],
             [
              0.2222222222222222,
              "#7201a8"
             ],
             [
              0.3333333333333333,
              "#9c179e"
             ],
             [
              0.4444444444444444,
              "#bd3786"
             ],
             [
              0.5555555555555556,
              "#d8576b"
             ],
             [
              0.6666666666666666,
              "#ed7953"
             ],
             [
              0.7777777777777778,
              "#fb9f3a"
             ],
             [
              0.8888888888888888,
              "#fdca26"
             ],
             [
              1,
              "#f0f921"
             ]
            ],
            "type": "histogram2dcontour"
           }
          ],
          "mesh3d": [
           {
            "colorbar": {
             "outlinewidth": 0,
             "ticks": ""
            },
            "type": "mesh3d"
           }
          ],
          "parcoords": [
           {
            "line": {
             "colorbar": {
              "outlinewidth": 0,
              "ticks": ""
             }
            },
            "type": "parcoords"
           }
          ],
          "pie": [
           {
            "automargin": true,
            "type": "pie"
           }
          ],
          "scatter": [
           {
            "fillpattern": {
             "fillmode": "overlay",
             "size": 10,
             "solidity": 0.2
            },
            "type": "scatter"
           }
          ],
          "scatter3d": [
           {
            "line": {
             "colorbar": {
              "outlinewidth": 0,
              "ticks": ""
             }
            },
            "marker": {
             "colorbar": {
              "outlinewidth": 0,
              "ticks": ""
             }
            },
            "type": "scatter3d"
           }
          ],
          "scattercarpet": [
           {
            "marker": {
             "colorbar": {
              "outlinewidth": 0,
              "ticks": ""
             }
            },
            "type": "scattercarpet"
           }
          ],
          "scattergeo": [
           {
            "marker": {
             "colorbar": {
              "outlinewidth": 0,
              "ticks": ""
             }
            },
            "type": "scattergeo"
           }
          ],
          "scattergl": [
           {
            "marker": {
             "colorbar": {
              "outlinewidth": 0,
              "ticks": ""
             }
            },
            "type": "scattergl"
           }
          ],
          "scattermapbox": [
           {
            "marker": {
             "colorbar": {
              "outlinewidth": 0,
              "ticks": ""
             }
            },
            "type": "scattermapbox"
           }
          ],
          "scatterpolar": [
           {
            "marker": {
             "colorbar": {
              "outlinewidth": 0,
              "ticks": ""
             }
            },
            "type": "scatterpolar"
           }
          ],
          "scatterpolargl": [
           {
            "marker": {
             "colorbar": {
              "outlinewidth": 0,
              "ticks": ""
             }
            },
            "type": "scatterpolargl"
           }
          ],
          "scatterternary": [
           {
            "marker": {
             "colorbar": {
              "outlinewidth": 0,
              "ticks": ""
             }
            },
            "type": "scatterternary"
           }
          ],
          "surface": [
           {
            "colorbar": {
             "outlinewidth": 0,
             "ticks": ""
            },
            "colorscale": [
             [
              0,
              "#0d0887"
             ],
             [
              0.1111111111111111,
              "#46039f"
             ],
             [
              0.2222222222222222,
              "#7201a8"
             ],
             [
              0.3333333333333333,
              "#9c179e"
             ],
             [
              0.4444444444444444,
              "#bd3786"
             ],
             [
              0.5555555555555556,
              "#d8576b"
             ],
             [
              0.6666666666666666,
              "#ed7953"
             ],
             [
              0.7777777777777778,
              "#fb9f3a"
             ],
             [
              0.8888888888888888,
              "#fdca26"
             ],
             [
              1,
              "#f0f921"
             ]
            ],
            "type": "surface"
           }
          ],
          "table": [
           {
            "cells": {
             "fill": {
              "color": "#EBF0F8"
             },
             "line": {
              "color": "white"
             }
            },
            "header": {
             "fill": {
              "color": "#C8D4E3"
             },
             "line": {
              "color": "white"
             }
            },
            "type": "table"
           }
          ]
         },
         "layout": {
          "annotationdefaults": {
           "arrowcolor": "#2a3f5f",
           "arrowhead": 0,
           "arrowwidth": 1
          },
          "autotypenumbers": "strict",
          "coloraxis": {
           "colorbar": {
            "outlinewidth": 0,
            "ticks": ""
           }
          },
          "colorscale": {
           "diverging": [
            [
             0,
             "#8e0152"
            ],
            [
             0.1,
             "#c51b7d"
            ],
            [
             0.2,
             "#de77ae"
            ],
            [
             0.3,
             "#f1b6da"
            ],
            [
             0.4,
             "#fde0ef"
            ],
            [
             0.5,
             "#f7f7f7"
            ],
            [
             0.6,
             "#e6f5d0"
            ],
            [
             0.7,
             "#b8e186"
            ],
            [
             0.8,
             "#7fbc41"
            ],
            [
             0.9,
             "#4d9221"
            ],
            [
             1,
             "#276419"
            ]
           ],
           "sequential": [
            [
             0,
             "#0d0887"
            ],
            [
             0.1111111111111111,
             "#46039f"
            ],
            [
             0.2222222222222222,
             "#7201a8"
            ],
            [
             0.3333333333333333,
             "#9c179e"
            ],
            [
             0.4444444444444444,
             "#bd3786"
            ],
            [
             0.5555555555555556,
             "#d8576b"
            ],
            [
             0.6666666666666666,
             "#ed7953"
            ],
            [
             0.7777777777777778,
             "#fb9f3a"
            ],
            [
             0.8888888888888888,
             "#fdca26"
            ],
            [
             1,
             "#f0f921"
            ]
           ],
           "sequentialminus": [
            [
             0,
             "#0d0887"
            ],
            [
             0.1111111111111111,
             "#46039f"
            ],
            [
             0.2222222222222222,
             "#7201a8"
            ],
            [
             0.3333333333333333,
             "#9c179e"
            ],
            [
             0.4444444444444444,
             "#bd3786"
            ],
            [
             0.5555555555555556,
             "#d8576b"
            ],
            [
             0.6666666666666666,
             "#ed7953"
            ],
            [
             0.7777777777777778,
             "#fb9f3a"
            ],
            [
             0.8888888888888888,
             "#fdca26"
            ],
            [
             1,
             "#f0f921"
            ]
           ]
          },
          "colorway": [
           "#636efa",
           "#EF553B",
           "#00cc96",
           "#ab63fa",
           "#FFA15A",
           "#19d3f3",
           "#FF6692",
           "#B6E880",
           "#FF97FF",
           "#FECB52"
          ],
          "font": {
           "color": "#2a3f5f"
          },
          "geo": {
           "bgcolor": "white",
           "lakecolor": "white",
           "landcolor": "#E5ECF6",
           "showlakes": true,
           "showland": true,
           "subunitcolor": "white"
          },
          "hoverlabel": {
           "align": "left"
          },
          "hovermode": "closest",
          "mapbox": {
           "style": "light"
          },
          "paper_bgcolor": "white",
          "plot_bgcolor": "#E5ECF6",
          "polar": {
           "angularaxis": {
            "gridcolor": "white",
            "linecolor": "white",
            "ticks": ""
           },
           "bgcolor": "#E5ECF6",
           "radialaxis": {
            "gridcolor": "white",
            "linecolor": "white",
            "ticks": ""
           }
          },
          "scene": {
           "xaxis": {
            "backgroundcolor": "#E5ECF6",
            "gridcolor": "white",
            "gridwidth": 2,
            "linecolor": "white",
            "showbackground": true,
            "ticks": "",
            "zerolinecolor": "white"
           },
           "yaxis": {
            "backgroundcolor": "#E5ECF6",
            "gridcolor": "white",
            "gridwidth": 2,
            "linecolor": "white",
            "showbackground": true,
            "ticks": "",
            "zerolinecolor": "white"
           },
           "zaxis": {
            "backgroundcolor": "#E5ECF6",
            "gridcolor": "white",
            "gridwidth": 2,
            "linecolor": "white",
            "showbackground": true,
            "ticks": "",
            "zerolinecolor": "white"
           }
          },
          "shapedefaults": {
           "line": {
            "color": "#2a3f5f"
           }
          },
          "ternary": {
           "aaxis": {
            "gridcolor": "white",
            "linecolor": "white",
            "ticks": ""
           },
           "baxis": {
            "gridcolor": "white",
            "linecolor": "white",
            "ticks": ""
           },
           "bgcolor": "#E5ECF6",
           "caxis": {
            "gridcolor": "white",
            "linecolor": "white",
            "ticks": ""
           }
          },
          "title": {
           "x": 0.05
          },
          "xaxis": {
           "automargin": true,
           "gridcolor": "white",
           "linecolor": "white",
           "ticks": "",
           "title": {
            "standoff": 15
           },
           "zerolinecolor": "white",
           "zerolinewidth": 2
          },
          "yaxis": {
           "automargin": true,
           "gridcolor": "white",
           "linecolor": "white",
           "ticks": "",
           "title": {
            "standoff": 15
           },
           "zerolinecolor": "white",
           "zerolinewidth": 2
          }
         }
        },
        "xaxis": {
         "anchor": "y",
         "categoryarray": [
          "Thur",
          "Sun",
          "Sat",
          "Fri"
         ],
         "categoryorder": "array",
         "domain": [
          0,
          1
         ],
         "title": {
          "text": "day"
         }
        },
        "yaxis": {
         "anchor": "x",
         "domain": [
          0,
          1
         ],
         "range": [
          -1.7040000000000002,
          89.00200000000001
         ],
         "title": {
          "text": "total_bill"
         }
        }
       }
      }
     },
     "metadata": {},
     "output_type": "display_data"
    }
   ],
   "source": [
    "df = sns.load_dataset(\"tips\")\n",
    "#serve per Federica\n",
    "#df=pd.read_csv(\"data.csv\")\n",
    "x = \"day\"\n",
    "y = \"total_bill\"\n",
    "\n",
    "plot_stats(df, x, y, type_plot=\"box\",type_test=\"Mann-Whitney\", order=[\"Thur\", \"Sun\", \"Sat\", \"Fri\"], type_correction=\"Benjamini-Hochberg\")"
   ]
  },
  {
   "cell_type": "code",
   "execution_count": null,
   "metadata": {},
   "outputs": [],
   "source": [
    "df = sns.load_dataset(\"titanic\")\n",
    "x = \"sex\"\n",
    "y = \"pclass\"\n",
    "\n",
    "plot_stats(df, x, y, type_plot=\"box\",type_test=\"Mann-Whitney\")"
   ]
  }
 ],
 "metadata": {
  "kernelspec": {
   "display_name": "Python 3",
   "language": "python",
   "name": "python3"
  },
  "language_info": {
   "codemirror_mode": {
    "name": "ipython",
    "version": 3
   },
   "file_extension": ".py",
   "mimetype": "text/x-python",
   "name": "python",
   "nbconvert_exporter": "python",
   "pygments_lexer": "ipython3",
   "version": "3.10.6"
  }
 },
 "nbformat": 4,
 "nbformat_minor": 2
}
